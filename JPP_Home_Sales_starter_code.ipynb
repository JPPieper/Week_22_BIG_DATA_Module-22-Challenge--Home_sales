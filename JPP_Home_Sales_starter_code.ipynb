{
 "cells": [
  {
   "cell_type": "code",
   "execution_count": 1,
   "metadata": {},
   "outputs": [],
   "source": [
    "# Import findspark and initialize.\n",
    "import findspark\n",
    "findspark.init()"
   ]
  },
  {
   "cell_type": "code",
   "execution_count": 2,
   "metadata": {
    "id": "2XbWNf1Te5fM"
   },
   "outputs": [
    {
     "name": "stdout",
     "output_type": "stream",
     "text": [
      "3.5.2\n"
     ]
    }
   ],
   "source": [
    "# Import packages\n",
    "from pyspark.sql import SparkSession\n",
    "import time\n",
    "\n",
    "# Create a SparkSession\n",
    "spark = SparkSession.builder.appName(\"SparkSQL\").getOrCreate()\n",
    "print(spark.version)"
   ]
  },
  {
   "cell_type": "code",
   "execution_count": 3,
   "metadata": {
    "colab": {
     "base_uri": "https://localhost:8080/"
    },
    "id": "wOJqxG_RPSwp",
    "outputId": "7857ef9f-5b04-405d-f5aa-e535dfe7870c"
   },
   "outputs": [],
   "source": [
    "# 1. Read in the AWS S3 bucket into a DataFrame.\n",
    "from pyspark import SparkFiles\n",
    "url = \"https://2u-data-curriculum-team.s3.amazonaws.com/dataviz-classroom/v1.2/22-big-data/home_sales_revised.csv\"\n",
    "\n"
   ]
  },
  {
   "cell_type": "code",
   "execution_count": 4,
   "metadata": {
    "id": "RoljcJ7WPpnm"
   },
   "outputs": [],
   "source": [
    "# 2. Create a temporary view of the DataFrame.\n",
    "spark.sparkContext.addFile(url)\n",
    "df = spark.read.csv(SparkFiles.get(\"home_sales_revised.csv\"), header=True, inferSchema=True)\n"
   ]
  },
  {
   "cell_type": "code",
   "execution_count": 5,
   "metadata": {},
   "outputs": [
    {
     "name": "stdout",
     "output_type": "stream",
     "text": [
      "+--------------------+----------+----------+------+--------+---------+-----------+--------+------+----------+----+\n",
      "|                  id|      date|date_built| price|bedrooms|bathrooms|sqft_living|sqft_lot|floors|waterfront|view|\n",
      "+--------------------+----------+----------+------+--------+---------+-----------+--------+------+----------+----+\n",
      "|f8a53099-ba1c-47d...|2022-04-08|      2016|936923|       4|        3|       3167|   11733|     2|         1|  76|\n",
      "|7530a2d8-1ae3-451...|2021-06-13|      2013|379628|       2|        2|       2235|   14384|     1|         0|  23|\n",
      "|43de979c-0bf0-4c9...|2019-04-12|      2014|417866|       2|        2|       2127|   10575|     2|         0|   0|\n",
      "|b672c137-b88c-48b...|2019-10-16|      2016|239895|       2|        2|       1631|   11149|     2|         0|   0|\n",
      "|e0726d4d-d595-407...|2022-01-08|      2017|424418|       3|        2|       2249|   13878|     2|         0|   4|\n",
      "|5aa00529-0533-46b...|2019-01-30|      2017|218712|       2|        3|       1965|   14375|     2|         0|   7|\n",
      "|131492a1-72e2-4a8...|2020-02-08|      2017|419199|       2|        3|       2062|    8876|     2|         0|   6|\n",
      "|8d54a71b-c520-44e...|2019-07-21|      2010|323956|       2|        3|       1506|   11816|     1|         0|  25|\n",
      "|e81aacfe-17fe-46b...|2020-06-16|      2016|181925|       3|        3|       2137|   11709|     2|         0|  22|\n",
      "|2ed8d509-7372-46d...|2021-08-06|      2015|258710|       3|        3|       1918|    9666|     1|         0|  25|\n",
      "|f876d86f-3c9f-42b...|2019-02-27|      2011|167864|       3|        3|       2471|   13924|     2|         0|  15|\n",
      "|0a2bd445-8508-4d8...|2021-12-30|      2014|337527|       2|        3|       1926|   12556|     1|         0|  23|\n",
      "|941bad30-eb49-4a7...|2020-05-09|      2015|229896|       3|        3|       2197|    8641|     1|         0|   3|\n",
      "|dd61eb34-6589-4c0...|2021-07-25|      2016|210247|       3|        2|       1672|   11986|     2|         0|  28|\n",
      "|f1e4cef7-d151-439...|2019-02-01|      2011|398667|       2|        3|       2331|   11356|     1|         0|   7|\n",
      "|ea620c7b-c2f7-4c6...|2021-05-31|      2011|437958|       3|        3|       2356|   11052|     1|         0|  26|\n",
      "|f233cb41-6f33-4b0...|2021-07-18|      2016|437375|       4|        3|       1704|   11721|     2|         0|  34|\n",
      "|c797ca12-52cd-4b1...|2019-06-08|      2015|288650|       2|        3|       2100|   10419|     2|         0|   7|\n",
      "|0cfe57f3-28c2-472...|2019-10-04|      2015|308313|       3|        3|       1960|    9453|     2|         0|   2|\n",
      "|4566cd2a-ac6e-435...|2019-07-15|      2016|177541|       3|        3|       2130|   10517|     2|         0|  25|\n",
      "+--------------------+----------+----------+------+--------+---------+-----------+--------+------+----------+----+\n",
      "only showing top 20 rows\n",
      "\n"
     ]
    }
   ],
   "source": [
    "# Show DataFrame\n",
    "df.show()"
   ]
  },
  {
   "cell_type": "code",
   "execution_count": 6,
   "metadata": {},
   "outputs": [
    {
     "name": "stdout",
     "output_type": "stream",
     "text": [
      "+----------+\n",
      "|year(date)|\n",
      "+----------+\n",
      "|      2022|\n",
      "|      2021|\n",
      "|      2019|\n",
      "|      2019|\n",
      "|      2022|\n",
      "|      2019|\n",
      "|      2020|\n",
      "|      2019|\n",
      "|      2020|\n",
      "|      2021|\n",
      "|      2019|\n",
      "|      2021|\n",
      "|      2020|\n",
      "|      2021|\n",
      "|      2019|\n",
      "|      2021|\n",
      "|      2021|\n",
      "|      2019|\n",
      "|      2019|\n",
      "|      2019|\n",
      "+----------+\n",
      "only showing top 20 rows\n",
      "\n"
     ]
    }
   ],
   "source": [
    "# Import date time functions\n",
    "from pyspark.sql.functions import year\n",
    "\n",
    "# Show the year for the date column\n",
    "df.select(year(df[\"date\"])).show()"
   ]
  },
  {
   "cell_type": "code",
   "execution_count": 7,
   "metadata": {},
   "outputs": [
    {
     "name": "stdout",
     "output_type": "stream",
     "text": [
      "+--------------------+----------+----------+------+--------+---------+-----------+--------+------+----------+----+----+\n",
      "|                  id|      date|date_built| price|bedrooms|bathrooms|sqft_living|sqft_lot|floors|waterfront|view|year|\n",
      "+--------------------+----------+----------+------+--------+---------+-----------+--------+------+----------+----+----+\n",
      "|f8a53099-ba1c-47d...|2022-04-08|      2016|936923|       4|        3|       3167|   11733|     2|         1|  76|2022|\n",
      "|7530a2d8-1ae3-451...|2021-06-13|      2013|379628|       2|        2|       2235|   14384|     1|         0|  23|2021|\n",
      "|43de979c-0bf0-4c9...|2019-04-12|      2014|417866|       2|        2|       2127|   10575|     2|         0|   0|2019|\n",
      "|b672c137-b88c-48b...|2019-10-16|      2016|239895|       2|        2|       1631|   11149|     2|         0|   0|2019|\n",
      "|e0726d4d-d595-407...|2022-01-08|      2017|424418|       3|        2|       2249|   13878|     2|         0|   4|2022|\n",
      "|5aa00529-0533-46b...|2019-01-30|      2017|218712|       2|        3|       1965|   14375|     2|         0|   7|2019|\n",
      "|131492a1-72e2-4a8...|2020-02-08|      2017|419199|       2|        3|       2062|    8876|     2|         0|   6|2020|\n",
      "|8d54a71b-c520-44e...|2019-07-21|      2010|323956|       2|        3|       1506|   11816|     1|         0|  25|2019|\n",
      "|e81aacfe-17fe-46b...|2020-06-16|      2016|181925|       3|        3|       2137|   11709|     2|         0|  22|2020|\n",
      "|2ed8d509-7372-46d...|2021-08-06|      2015|258710|       3|        3|       1918|    9666|     1|         0|  25|2021|\n",
      "|f876d86f-3c9f-42b...|2019-02-27|      2011|167864|       3|        3|       2471|   13924|     2|         0|  15|2019|\n",
      "|0a2bd445-8508-4d8...|2021-12-30|      2014|337527|       2|        3|       1926|   12556|     1|         0|  23|2021|\n",
      "|941bad30-eb49-4a7...|2020-05-09|      2015|229896|       3|        3|       2197|    8641|     1|         0|   3|2020|\n",
      "|dd61eb34-6589-4c0...|2021-07-25|      2016|210247|       3|        2|       1672|   11986|     2|         0|  28|2021|\n",
      "|f1e4cef7-d151-439...|2019-02-01|      2011|398667|       2|        3|       2331|   11356|     1|         0|   7|2019|\n",
      "|ea620c7b-c2f7-4c6...|2021-05-31|      2011|437958|       3|        3|       2356|   11052|     1|         0|  26|2021|\n",
      "|f233cb41-6f33-4b0...|2021-07-18|      2016|437375|       4|        3|       1704|   11721|     2|         0|  34|2021|\n",
      "|c797ca12-52cd-4b1...|2019-06-08|      2015|288650|       2|        3|       2100|   10419|     2|         0|   7|2019|\n",
      "|0cfe57f3-28c2-472...|2019-10-04|      2015|308313|       3|        3|       1960|    9453|     2|         0|   2|2019|\n",
      "|4566cd2a-ac6e-435...|2019-07-15|      2016|177541|       3|        3|       2130|   10517|     2|         0|  25|2019|\n",
      "+--------------------+----------+----------+------+--------+---------+-----------+--------+------+----------+----+----+\n",
      "only showing top 20 rows\n",
      "\n"
     ]
    }
   ],
   "source": [
    "# Save the year as a new column\n",
    "df = df.withColumn(\"year\", year(df['date']))\n",
    "df.show()"
   ]
  },
  {
   "cell_type": "code",
   "execution_count": 8,
   "metadata": {},
   "outputs": [
    {
     "name": "stdout",
     "output_type": "stream",
     "text": [
      "Current Schema:  spark_catalog\n"
     ]
    }
   ],
   "source": [
    "# Check the current schema in the Spark session\n",
    "current_schema = spark.conf.get(\"spark.sql.defaultCatalog\")\n",
    "print(\"Current Schema: \", current_schema)"
   ]
  },
  {
   "cell_type": "code",
   "execution_count": 9,
   "metadata": {},
   "outputs": [],
   "source": [
    "# Create a temporary view for the DataFrame\n",
    "df.createOrReplaceTempView(\"home_sales\")"
   ]
  },
  {
   "cell_type": "code",
   "execution_count": 10,
   "metadata": {},
   "outputs": [
    {
     "name": "stdout",
     "output_type": "stream",
     "text": [
      "+----+---------+\n",
      "|year|avg_price|\n",
      "+----+---------+\n",
      "|2019| 300263.7|\n",
      "|2020|298353.78|\n",
      "|2021|301819.44|\n",
      "|2022|296363.88|\n",
      "+----+---------+\n",
      "\n"
     ]
    }
   ],
   "source": [
    "# 3. What is the average price for a four bedroom house sold per year, rounded to two decimal places?\n",
    "price4_bed_query = \"\"\"\n",
    "SELECT year(date) AS year, ROUND(AVG(price), 2) AS avg_price\n",
    "FROM home_sales\n",
    "WHERE bedrooms = 4\n",
    "GROUP BY  year(date)\n",
    "ORDER BY year(date)\n",
    "\"\"\"\n",
    "\n",
    "# Execute the query for 3-bedroom, 3-bathroom homes\n",
    "price4_bed_query = spark.sql(price4_bed_query)\n",
    "price4_bed_query.show()"
   ]
  },
  {
   "cell_type": "code",
   "execution_count": 11,
   "metadata": {},
   "outputs": [
    {
     "name": "stdout",
     "output_type": "stream",
     "text": [
      "+----------+----+---------+\n",
      "|date_built|year|avg_price|\n",
      "+----------+----+---------+\n",
      "|      2010|2022|296405.79|\n",
      "|      2010|2019|284458.42|\n",
      "|      2010|2021|289023.65|\n",
      "|      2010|2020|304246.88|\n",
      "|      2011|2022|306552.15|\n",
      "|      2011|2019|284564.26|\n",
      "|      2011|2020|288642.39|\n",
      "|      2011|2021| 292662.9|\n",
      "|      2012|2022|300950.42|\n",
      "|      2012|2020|283971.97|\n",
      "|      2012|2019|296330.24|\n",
      "|      2012|2021|297861.19|\n",
      "|      2013|2019|284170.31|\n",
      "|      2013|2020|290906.15|\n",
      "|      2013|2022|312449.58|\n",
      "|      2013|2021|307075.45|\n",
      "|      2014|2021|296860.85|\n",
      "|      2014|2022| 274183.0|\n",
      "|      2014|2019|283766.07|\n",
      "|      2014|2020|301938.78|\n",
      "+----------+----+---------+\n",
      "only showing top 20 rows\n",
      "\n"
     ]
    }
   ],
   "source": [
    "# 4. What is the average price of a home for each year the home was built,\n",
    "# that have 3 bedrooms and 3 bathrooms, rounded to two decimal places?\n",
    "\n",
    "price3_bed_3_Bath_sold_by_year_query = \"\"\"\n",
    "SELECT date_built, year(date) AS year, ROUND(AVG(price), 2) AS avg_price\n",
    "FROM home_sales\n",
    "WHERE bedrooms = 3 AND bathrooms = 3\n",
    "GROUP BY date_built, year(date)\n",
    "ORDER BY date_built\n",
    "\"\"\"\n",
    "\n",
    "# Execute the query for 3-bedroom, 3-bathroom homes\n",
    "price3_bed_3_Bath_sold_by_year = spark.sql(price3_bed_3_Bath_sold_by_year_query)\n",
    "price3_bed_3_Bath_sold_by_year.show()"
   ]
  },
  {
   "cell_type": "code",
   "execution_count": 12,
   "metadata": {
    "colab": {
     "base_uri": "https://localhost:8080/"
    },
    "id": "Y-Eytz64liDU",
    "outputId": "17119810-56ad-40c3-de5e-c3db57e43bcc"
   },
   "outputs": [
    {
     "name": "stdout",
     "output_type": "stream",
     "text": [
      "+----------+----+---------+\n",
      "|date_built|year|avg_price|\n",
      "+----------+----+---------+\n",
      "|      2010|2022|302258.94|\n",
      "|      2010|2019|273667.58|\n",
      "|      2010|2021|277498.27|\n",
      "|      2010|2020| 298438.0|\n",
      "|      2011|2022|290493.56|\n",
      "|      2011|2019|270466.83|\n",
      "|      2011|2020|256722.71|\n",
      "|      2011|2021|298727.59|\n",
      "|      2012|2022|305840.13|\n",
      "|      2012|2020|324302.59|\n",
      "|      2012|2019|304885.46|\n",
      "|      2012|2021|300436.96|\n",
      "|      2013|2019| 285635.4|\n",
      "|      2013|2020|314235.11|\n",
      "|      2013|2022|295597.11|\n",
      "|      2013|2021|314629.69|\n",
      "|      2014|2021|276998.95|\n",
      "|      2014|2022|303618.52|\n",
      "|      2014|2019|306384.98|\n",
      "|      2014|2020|304561.62|\n",
      "+----------+----+---------+\n",
      "only showing top 20 rows\n",
      "\n"
     ]
    }
   ],
   "source": [
    "# 5. What is the average price of a home for each year the home was built,\n",
    "# that have 3 bedrooms, 3 bathrooms, with two floors,\n",
    "# and are greater than or equal to 2,000 square feet, rounded to two decimal places?\n",
    "\n",
    "Avg_Price_3_bed_3_Bath_2_Floor_2000sqft_query = \"\"\"\n",
    "SELECT date_built, year(date) AS year, ROUND(AVG(price), 2) AS avg_price\n",
    "FROM home_sales\n",
    "WHERE bedrooms = 3 AND bathrooms = 3\n",
    "AND sqft_living >=2000 AND floors = 2\n",
    "GROUP BY date_built, year(date)\n",
    "ORDER BY date_built\n",
    "\"\"\"\n",
    "\n",
    "# Execute the query for 3-bedroom, 3-bathroom homes\n",
    "Avg_Price_3_bed_3_Bath_2_Floor_2000sqft_query = spark.sql(Avg_Price_3_bed_3_Bath_2_Floor_2000sqft_query)\n",
    "Avg_Price_3_bed_3_Bath_2_Floor_2000sqft_query.show()\n"
   ]
  },
  {
   "cell_type": "code",
   "execution_count": 13,
   "metadata": {
    "colab": {
     "base_uri": "https://localhost:8080/"
    },
    "id": "GUrfgOX1pCRd",
    "outputId": "17c25774-855e-4290-a4bd-a04902bdc13a"
   },
   "outputs": [
    {
     "name": "stdout",
     "output_type": "stream",
     "text": [
      "+----+----------+\n",
      "|view| avg_price|\n",
      "+----+----------+\n",
      "| 100| 1026669.5|\n",
      "|  99|1061201.42|\n",
      "|  98|1053739.33|\n",
      "|  97|1129040.15|\n",
      "|  96|1017815.92|\n",
      "|  95| 1054325.6|\n",
      "|  94| 1033536.2|\n",
      "|  93|1026006.06|\n",
      "|  92| 970402.55|\n",
      "|  91|1137372.73|\n",
      "|  90|1062654.16|\n",
      "|  89|1107839.15|\n",
      "|  88|1031719.35|\n",
      "|  87| 1072285.2|\n",
      "|  86|1070444.25|\n",
      "|  85|1056336.74|\n",
      "|  84|1117233.13|\n",
      "|  83|1033965.93|\n",
      "|  82| 1063498.0|\n",
      "|  81|1053472.79|\n",
      "+----+----------+\n",
      "only showing top 20 rows\n",
      "\n",
      "--- 0.5215010643005371 seconds ---\n"
     ]
    }
   ],
   "source": [
    "# 6. What is the average price of a home per \"view\" rating, rounded to two decimal places,\n",
    "# having an average home price greater than or equal to $350,000? Order by descending view rating. \n",
    "# Although this is a small dataset, determine the run time for this query.\n",
    "start_time = time.time()\n",
    "\n",
    "Avg_Price_Rating_over350K_query = \"\"\"\n",
    "SELECT view, ROUND(AVG(price), 2) AS avg_price\n",
    "FROM home_sales\n",
    "GROUP BY view\n",
    "HAVING AVG(price) >= 350000\n",
    "ORDER BY view DESC\n",
    "\"\"\"\n",
    "\n",
    "# Execute the query for 3-bedroom, 3-bathroom homes\n",
    "Avg_Price_Rating_over350K_query = spark.sql(Avg_Price_Rating_over350K_query)\n",
    "Avg_Price_Rating_over350K_query.show()\n",
    "\n",
    "print(\"--- %s seconds ---\" % (time.time() - start_time))"
   ]
  },
  {
   "cell_type": "code",
   "execution_count": 14,
   "metadata": {
    "colab": {
     "base_uri": "https://localhost:8080/"
    },
    "id": "KAhk3ZD2tFy8",
    "outputId": "0a8f132d-40a8-4bd4-b5f2-2847e98427f5"
   },
   "outputs": [],
   "source": [
    "# 7. Cache the the temporary table home_sales.\n",
    "spark.catalog.cacheTable(\"home_sales\")"
   ]
  },
  {
   "cell_type": "code",
   "execution_count": 15,
   "metadata": {
    "colab": {
     "base_uri": "https://localhost:8080/"
    },
    "id": "4opVhbvxtL-i",
    "outputId": "38ec8487-795f-4550-b50c-fcc6f2b7c769"
   },
   "outputs": [
    {
     "data": {
      "text/plain": [
       "True"
      ]
     },
     "execution_count": 15,
     "metadata": {},
     "output_type": "execute_result"
    }
   ],
   "source": [
    "# 8. Check if the table is cached.\n",
    "spark.catalog.isCached('home_sales')"
   ]
  },
  {
   "cell_type": "code",
   "execution_count": 16,
   "metadata": {
    "colab": {
     "base_uri": "https://localhost:8080/"
    },
    "id": "5GnL46lwTSEk",
    "outputId": "09a16c73-194d-4371-95d1-ee64fe83b91c"
   },
   "outputs": [
    {
     "name": "stdout",
     "output_type": "stream",
     "text": [
      "+----------------+----------+\n",
      "|Home_View_Rating| Avg_Price|\n",
      "+----------------+----------+\n",
      "|              99|1061201.42|\n",
      "|              98|1053739.33|\n",
      "|              97|1129040.15|\n",
      "|              96|1017815.92|\n",
      "|              95| 1054325.6|\n",
      "|              94| 1033536.2|\n",
      "|              93|1026006.06|\n",
      "|              92| 970402.55|\n",
      "|              91|1137372.73|\n",
      "|              90|1062654.16|\n",
      "|              89|1107839.15|\n",
      "|              88|1031719.35|\n",
      "|              87| 1072285.2|\n",
      "|              86|1070444.25|\n",
      "|              85|1056336.74|\n",
      "|              84|1117233.13|\n",
      "|              83|1033965.93|\n",
      "|              82| 1063498.0|\n",
      "|              81|1053472.79|\n",
      "|              80| 991767.38|\n",
      "+----------------+----------+\n",
      "only showing top 20 rows\n",
      "\n",
      "--- 1.0874059200286865 seconds ---\n"
     ]
    }
   ],
   "source": [
    "# 9. Using the cached data, run the last query above, that calculates \n",
    "# the average price of a home per \"view\" rating, rounded to two decimal places,\n",
    "# having an average home price greater than or equal to $350,000. \n",
    "# Determine the runtime and compare it to the uncached runtime.\n",
    "start_time = time.time()\n",
    "\n",
    "result = spark.sql(\"\"\"\n",
    "SELECT LPAD(view, 2, '0') AS Home_View_Rating, ROUND(AVG(price), 2) AS Avg_Price\n",
    "FROM home_sales\n",
    "WHERE price >= 350000\n",
    "GROUP BY 1\n",
    "ORDER BY Home_View_Rating DESC\n",
    "\"\"\")\n",
    "\n",
    "result.show()\n",
    "\n",
    "print(\"--- %s seconds ---\" % (time.time() - start_time))\n",
    "\n"
   ]
  },
  {
   "cell_type": "code",
   "execution_count": 17,
   "metadata": {
    "colab": {
     "base_uri": "https://localhost:8080/"
    },
    "id": "5GnL46lwTSEk",
    "outputId": "09a16c73-194d-4371-95d1-ee64fe83b91c"
   },
   "outputs": [
    {
     "name": "stdout",
     "output_type": "stream",
     "text": [
      "+----+----------+\n",
      "|view| avg_price|\n",
      "+----+----------+\n",
      "| 100| 1026669.5|\n",
      "|  99|1061201.42|\n",
      "|  98|1053739.33|\n",
      "|  97|1129040.15|\n",
      "|  96|1017815.92|\n",
      "|  95| 1054325.6|\n",
      "|  94| 1033536.2|\n",
      "|  93|1026006.06|\n",
      "|  92| 970402.55|\n",
      "|  91|1137372.73|\n",
      "|  90|1062654.16|\n",
      "|  89|1107839.15|\n",
      "|  88|1031719.35|\n",
      "|  87| 1072285.2|\n",
      "|  86|1070444.25|\n",
      "|  85|1056336.74|\n",
      "|  84|1117233.13|\n",
      "|  83|1033965.93|\n",
      "|  82| 1063498.0|\n",
      "|  81|1053472.79|\n",
      "+----+----------+\n",
      "only showing top 20 rows\n",
      "\n",
      "--- 0.29346418380737305 seconds ---\n"
     ]
    }
   ],
   "source": [
    "# 9. Using the cached data, run the last query above, that calculates \n",
    "# the average price of a home per \"view\" rating, rounded to two decimal places,\n",
    "# having an average home price greater than or equal to $350,000. \n",
    "# Determine the runtime and compare it to the uncached runtime.\n",
    "\n",
    "start_time = time.time()\n",
    "\n",
    "Avg_Price_Rating_over350K_query = \"\"\"\n",
    "SELECT view, ROUND(AVG(price), 2) AS avg_price\n",
    "FROM home_sales\n",
    "GROUP BY view\n",
    "HAVING AVG(price) >= 350000\n",
    "ORDER BY view DESC\n",
    "\"\"\"\n",
    "\n",
    "# Execute the query for 3-bedroom, 3-bathroom homes\n",
    "Avg_Price_Rating_over350K_query = spark.sql(Avg_Price_Rating_over350K_query)\n",
    "Avg_Price_Rating_over350K_query.show()\n",
    "\n",
    "\n",
    "print(\"--- %s seconds ---\" % (time.time() - start_time))\n"
   ]
  },
  {
   "cell_type": "code",
   "execution_count": null,
   "metadata": {},
   "outputs": [],
   "source": [
    "# Determine the runtime and compare it to the uncached runtime.\n",
    "print(\"the parquet runtime of 1.0874 seconds is slightly shorter than the cached runtime of 0.2934 seconds\")"
   ]
  },
  {
   "cell_type": "code",
   "execution_count": null,
   "metadata": {},
   "outputs": [],
   "source": [
    "#################################"
   ]
  },
  {
   "cell_type": "code",
   "execution_count": 19,
   "metadata": {},
   "outputs": [
    {
     "ename": "NameError",
     "evalue": "name 'parquet_df' is not defined",
     "output_type": "error",
     "traceback": [
      "\u001b[1;31m---------------------------------------------------------------------------\u001b[0m",
      "\u001b[1;31mNameError\u001b[0m                                 Traceback (most recent call last)",
      "Cell \u001b[1;32mIn[19], line 1\u001b[0m\n\u001b[1;32m----> 1\u001b[0m parquet_df\u001b[38;5;241m.\u001b[39mwrite\u001b[38;5;241m.\u001b[39mparquet(\u001b[38;5;124m'\u001b[39m\u001b[38;5;124mhome_parquet\u001b[39m\u001b[38;5;124m'\u001b[39m, mode\u001b[38;5;241m=\u001b[39m\u001b[38;5;124m'\u001b[39m\u001b[38;5;124moverwrite\u001b[39m\u001b[38;5;124m'\u001b[39m)\n",
      "\u001b[1;31mNameError\u001b[0m: name 'parquet_df' is not defined"
     ]
    }
   ],
   "source": [
    "parquet_df.write.parquet('home_parquet', mode='overwrite')"
   ]
  },
  {
   "cell_type": "code",
   "execution_count": null,
   "metadata": {},
   "outputs": [],
   "source": [
    "##############################"
   ]
  },
  {
   "cell_type": "code",
   "execution_count": 14,
   "metadata": {
    "id": "Qm12WN9isHBR"
   },
   "outputs": [],
   "source": [
    "# 10. Partition by the \"date_built\" field on the formatted parquet home sales data \n",
    "#output_path = \"path_to_output_directory\"\n",
    "#partition_column = \"date_built\"\n",
    "\n",
    "#parquet_df = f\"{output_path}/{partition_column}\""
   ]
  },
  {
   "cell_type": "code",
   "execution_count": null,
   "metadata": {},
   "outputs": [],
   "source": [
    "# 11. Read the formatted parquet data.\n",
    "parquet_df.write.partitionBy(partition_column).parquet(output_path)"
   ]
  },
  {
   "cell_type": "code",
   "execution_count": null,
   "metadata": {},
   "outputs": [],
   "source": [
    "# 12. Create a temporary table for the parquet data.\n",
    "parquet_df.createOrReplaceTempView(\"parquet_data_table\")"
   ]
  },
  {
   "cell_type": "code",
   "execution_count": null,
   "metadata": {},
   "outputs": [],
   "source": [
    "# 12. Create a temporary table for the parquet data.\n",
    "parquet_df.createOrReplaceTempView(\"parquet_data_table\")"
   ]
  },
  {
   "cell_type": "code",
   "execution_count": 23,
   "metadata": {
    "colab": {
     "base_uri": "https://localhost:8080/"
    },
    "id": "G_Vhb52rU1Sn",
    "outputId": "a0b8d0c4-55ed-4c6c-bfd8-4c8c5334838e"
   },
   "outputs": [
    {
     "name": "stdout",
     "output_type": "stream",
     "text": [
      "+----+----------+\n",
      "|view| avg_price|\n",
      "+----+----------+\n",
      "|  85|1056336.74|\n",
      "|  65| 736679.93|\n",
      "|  53|  755214.8|\n",
      "|  78|1080649.37|\n",
      "|  81|1053472.79|\n",
      "|  76|1058802.78|\n",
      "|  91|1137372.73|\n",
      "|  93|1026006.06|\n",
      "|  52| 733780.26|\n",
      "|  86|1070444.25|\n",
      "|  94| 1033536.2|\n",
      "|  57|  734340.5|\n",
      "|  54| 798684.82|\n",
      "|  96|1017815.92|\n",
      "|  92| 970402.55|\n",
      "|  64| 767036.67|\n",
      "|  61| 746877.59|\n",
      "|  88|1031719.35|\n",
      "|  72| 780914.67|\n",
      "|  59|  791453.0|\n",
      "+----+----------+\n",
      "only showing top 20 rows\n",
      "\n",
      "--- 0.32926416397094727 seconds ---\n"
     ]
    }
   ],
   "source": [
    "# 13. Using the parquet DataFrame, run the last query above, that calculates \n",
    "# the average price of a home per \"view\" rating, rounded to two decimal places,\n",
    "# having an average home price greater than or equal to $350,000. \n",
    "# Determine the runtime and compare it to the cached runtime.\n",
    "\n",
    "start_time = time.time()\n",
    "# Run the query to calculate the average price of a home per \"view\" rating with average home price >= $350,000\n",
    "result = spark.sql(\"\"\"\n",
    "    SELECT view, ROUND(AVG(price), 2) AS avg_price\n",
    "    FROM home_sales\n",
    "    GROUP BY view\n",
    "    HAVING AVG(price) >= 350000\n",
    "\"\"\")\n",
    "\n",
    "result.show()\n",
    "\n",
    "\n",
    "print(\"--- %s seconds ---\" % (time.time() - start_time))"
   ]
  },
  {
   "cell_type": "code",
   "execution_count": null,
   "metadata": {},
   "outputs": [],
   "source": [
    "# 14. Uncache the home_sales temporary table.\n",
    "spark.catalog.uncacheTable(\"home_sales\")"
   ]
  },
  {
   "cell_type": "code",
   "execution_count": 13,
   "metadata": {
    "colab": {
     "base_uri": "https://localhost:8080/"
    },
    "id": "Sy9NBvO7tlmm",
    "outputId": "be73e0e3-5e85-4794-aad9-025fb6fa84a7"
   },
   "outputs": [],
   "source": [
    "# 15. Check if the home_sales is no longer cached\n",
    "spark.catalog.isCached(\"home_sales\")\n"
   ]
  },
  {
   "cell_type": "code",
   "execution_count": null,
   "metadata": {},
   "outputs": [],
   "source": []
  }
 ],
 "metadata": {
  "colab": {
   "collapsed_sections": [],
   "name": "Copy of Home_Sales_solution.ipynb",
   "provenance": []
  },
  "kernelspec": {
   "display_name": "Python 3 (ipykernel)",
   "language": "python",
   "name": "python3"
  },
  "language_info": {
   "codemirror_mode": {
    "name": "ipython",
    "version": 3
   },
   "file_extension": ".py",
   "mimetype": "text/x-python",
   "name": "python",
   "nbconvert_exporter": "python",
   "pygments_lexer": "ipython3",
   "version": "3.11.7"
  },
  "nteract": {
   "version": "0.28.0"
  }
 },
 "nbformat": 4,
 "nbformat_minor": 4
}
